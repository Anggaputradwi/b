{
  "cells": [
    {
      "cell_type": "markdown",
      "metadata": {
        "id": "view-in-github",
        "colab_type": "text"
      },
      "source": [
        "<a href=\"https://colab.research.google.com/github/Anggaputradwi/b/blob/main/Kelompok_2.ipynb\" target=\"_parent\"><img src=\"https://colab.research.google.com/assets/colab-badge.svg\" alt=\"Open In Colab\"/></a>"
      ]
    },
    {
      "cell_type": "code",
      "execution_count": null,
      "metadata": {
        "id": "e-Pekm5RoDCV"
      },
      "outputs": [],
      "source": [
        "import pandas as pd\n",
        "import numpy as np\n",
        "import matplotlib.pyplot as plt\n",
        "import seaborn as sns\n",
        "from sklearn.model_selection import train_test_split\n",
        "from sklearn.linear_model import LinearRegression\n",
        "from sklearn.metrics import mean_squared_error, r2_score\n",
        "from sklearn.preprocessing import LabelEncoder\n"
      ]
    },
    {
      "cell_type": "code",
      "execution_count": null,
      "metadata": {
        "colab": {
          "base_uri": "https://localhost:8080/",
          "height": 676
        },
        "id": "avD5eJoxoDCY",
        "outputId": "7f471aa4-9405-4214-d07a-db2510c09e3f"
      },
      "outputs": [
        {
          "output_type": "execute_result",
          "data": {
            "text/plain": [
              "    series  rating_avg                                             genres  \\\n",
              "0     True        3.95  Christian Fiction,Christian,Fiction,Religion,F...   \n",
              "1     True        4.36  Romance,Contemporary Romance,Contemporary,Erot...   \n",
              "2    False        2.97                                         Nonfiction   \n",
              "3     True        3.99  Romance,New Adult,Contemporary,High School,Fig...   \n",
              "4    False        3.50                                                NaN   \n",
              "5     True        3.97  Fantasy,Fiction,Young Adult,Adventure,Science ...   \n",
              "6     True        3.59  Science Fiction,Fiction,Space Opera,Robots,Cyb...   \n",
              "7    False        4.20  Nonfiction,Memoir,Biography,Audiobook,Biograph...   \n",
              "8    False        4.07                                                NaN   \n",
              "9    False        4.07                          Art,Philosophy,Nonfiction   \n",
              "10   False        3.39  Fiction,Contemporary,Literary Fiction,Adult Fi...   \n",
              "11    True        4.22  Fantasy,Fiction,Young Adult,Magic,Adult,Audiob...   \n",
              "12   False        3.82  Fiction,Thriller,Mystery,Africa,Espionage,Crim...   \n",
              "13   False        4.02  Historical Romance,Romance,Historical,Historic...   \n",
              "14   False        4.07  Picture Books,Childrens,Fiction,Folklore,Nativ...   \n",
              "15   False        3.97  Fiction,Africa,Senegal,Feminism,African Litera...   \n",
              "16    True        3.48                         Feminism,Womens,Nonfiction   \n",
              "17   False        4.21  History,Nonfiction,China,War,Japan,World War I...   \n",
              "18    True        4.03  Mystery,Crime,Fiction,Mystery Thriller,Thrille...   \n",
              "19   False        3.89  Historical Fiction,Fiction,Spain,Historical,Ro...   \n",
              "\n",
              "        pages        publication_type                   publication_info  \\\n",
              "0   356 pages               Hardcover    First published January 1, 2007   \n",
              "1   480 pages                   ebook     First published August 9, 2016   \n",
              "2   224 pages               Paperback    First published January 1, 2007   \n",
              "3   300 pages          Kindle Edition     First published March 17, 2014   \n",
              "4   287 pages               Paperback  First published September 1, 1994   \n",
              "5   238 pages               Paperback   First published February 1, 2004   \n",
              "6   336 pages               Hardcover    First published January 1, 2008   \n",
              "7   180 pages               Hardcover      First published July 12, 2022   \n",
              "8   324 pages               Paperback     First published April 22, 2009   \n",
              "9   423 pages               Hardcover    First published January 1, 1998   \n",
              "10  197 pages               Hardcover      First published March 7, 2017   \n",
              "11  512 pages               Hardcover  First published February 23, 2016   \n",
              "12  482 pages               Paperback    First published January 4, 2001   \n",
              "13  385 pages   Mass Market Paperback       First published July 1, 1992   \n",
              "14   32 pages               Hardcover      First published March 1, 1984   \n",
              "15   90 pages               Paperback    First published January 1, 1980   \n",
              "16  272 pages               Paperback    First published January 3, 2005   \n",
              "17  290 pages               Paperback   First published October 14, 1997   \n",
              "18  448 pages               Paperback    First published January 1, 1990   \n",
              "19  432 pages               Hardcover    First published January 1, 2008   \n",
              "\n",
              "   author_books author_followers  \n",
              "0           745             1926  \n",
              "1            66             3380  \n",
              "2            21                9  \n",
              "3            33             6160  \n",
              "4           292              377  \n",
              "5           100            34.1k  \n",
              "6           161             5612  \n",
              "7             8              717  \n",
              "8            39               27  \n",
              "9             7                1  \n",
              "10           12             1727  \n",
              "11           61              72k  \n",
              "12          175             8515  \n",
              "13          117             5206  \n",
              "14           57               91  \n",
              "15           11              213  \n",
              "16           24               14  \n",
              "17            7              370  \n",
              "18          167              469  \n",
              "19           66             1739  "
            ],
            "text/html": [
              "\n",
              "  <div id=\"df-b23cae92-813f-489f-ac72-ed406cdb3df4\" class=\"colab-df-container\">\n",
              "    <div>\n",
              "<style scoped>\n",
              "    .dataframe tbody tr th:only-of-type {\n",
              "        vertical-align: middle;\n",
              "    }\n",
              "\n",
              "    .dataframe tbody tr th {\n",
              "        vertical-align: top;\n",
              "    }\n",
              "\n",
              "    .dataframe thead th {\n",
              "        text-align: right;\n",
              "    }\n",
              "</style>\n",
              "<table border=\"1\" class=\"dataframe\">\n",
              "  <thead>\n",
              "    <tr style=\"text-align: right;\">\n",
              "      <th></th>\n",
              "      <th>series</th>\n",
              "      <th>rating_avg</th>\n",
              "      <th>genres</th>\n",
              "      <th>pages</th>\n",
              "      <th>publication_type</th>\n",
              "      <th>publication_info</th>\n",
              "      <th>author_books</th>\n",
              "      <th>author_followers</th>\n",
              "    </tr>\n",
              "  </thead>\n",
              "  <tbody>\n",
              "    <tr>\n",
              "      <th>0</th>\n",
              "      <td>True</td>\n",
              "      <td>3.95</td>\n",
              "      <td>Christian Fiction,Christian,Fiction,Religion,F...</td>\n",
              "      <td>356 pages</td>\n",
              "      <td>Hardcover</td>\n",
              "      <td>First published January 1, 2007</td>\n",
              "      <td>745</td>\n",
              "      <td>1926</td>\n",
              "    </tr>\n",
              "    <tr>\n",
              "      <th>1</th>\n",
              "      <td>True</td>\n",
              "      <td>4.36</td>\n",
              "      <td>Romance,Contemporary Romance,Contemporary,Erot...</td>\n",
              "      <td>480 pages</td>\n",
              "      <td>ebook</td>\n",
              "      <td>First published August 9, 2016</td>\n",
              "      <td>66</td>\n",
              "      <td>3380</td>\n",
              "    </tr>\n",
              "    <tr>\n",
              "      <th>2</th>\n",
              "      <td>False</td>\n",
              "      <td>2.97</td>\n",
              "      <td>Nonfiction</td>\n",
              "      <td>224 pages</td>\n",
              "      <td>Paperback</td>\n",
              "      <td>First published January 1, 2007</td>\n",
              "      <td>21</td>\n",
              "      <td>9</td>\n",
              "    </tr>\n",
              "    <tr>\n",
              "      <th>3</th>\n",
              "      <td>True</td>\n",
              "      <td>3.99</td>\n",
              "      <td>Romance,New Adult,Contemporary,High School,Fig...</td>\n",
              "      <td>300 pages</td>\n",
              "      <td>Kindle Edition</td>\n",
              "      <td>First published March 17, 2014</td>\n",
              "      <td>33</td>\n",
              "      <td>6160</td>\n",
              "    </tr>\n",
              "    <tr>\n",
              "      <th>4</th>\n",
              "      <td>False</td>\n",
              "      <td>3.50</td>\n",
              "      <td>NaN</td>\n",
              "      <td>287 pages</td>\n",
              "      <td>Paperback</td>\n",
              "      <td>First published September 1, 1994</td>\n",
              "      <td>292</td>\n",
              "      <td>377</td>\n",
              "    </tr>\n",
              "    <tr>\n",
              "      <th>5</th>\n",
              "      <td>True</td>\n",
              "      <td>3.97</td>\n",
              "      <td>Fantasy,Fiction,Young Adult,Adventure,Science ...</td>\n",
              "      <td>238 pages</td>\n",
              "      <td>Paperback</td>\n",
              "      <td>First published February 1, 2004</td>\n",
              "      <td>100</td>\n",
              "      <td>34.1k</td>\n",
              "    </tr>\n",
              "    <tr>\n",
              "      <th>6</th>\n",
              "      <td>True</td>\n",
              "      <td>3.59</td>\n",
              "      <td>Science Fiction,Fiction,Space Opera,Robots,Cyb...</td>\n",
              "      <td>336 pages</td>\n",
              "      <td>Hardcover</td>\n",
              "      <td>First published January 1, 2008</td>\n",
              "      <td>161</td>\n",
              "      <td>5612</td>\n",
              "    </tr>\n",
              "    <tr>\n",
              "      <th>7</th>\n",
              "      <td>False</td>\n",
              "      <td>4.20</td>\n",
              "      <td>Nonfiction,Memoir,Biography,Audiobook,Biograph...</td>\n",
              "      <td>180 pages</td>\n",
              "      <td>Hardcover</td>\n",
              "      <td>First published July 12, 2022</td>\n",
              "      <td>8</td>\n",
              "      <td>717</td>\n",
              "    </tr>\n",
              "    <tr>\n",
              "      <th>8</th>\n",
              "      <td>False</td>\n",
              "      <td>4.07</td>\n",
              "      <td>NaN</td>\n",
              "      <td>324 pages</td>\n",
              "      <td>Paperback</td>\n",
              "      <td>First published April 22, 2009</td>\n",
              "      <td>39</td>\n",
              "      <td>27</td>\n",
              "    </tr>\n",
              "    <tr>\n",
              "      <th>9</th>\n",
              "      <td>False</td>\n",
              "      <td>4.07</td>\n",
              "      <td>Art,Philosophy,Nonfiction</td>\n",
              "      <td>423 pages</td>\n",
              "      <td>Hardcover</td>\n",
              "      <td>First published January 1, 1998</td>\n",
              "      <td>7</td>\n",
              "      <td>1</td>\n",
              "    </tr>\n",
              "    <tr>\n",
              "      <th>10</th>\n",
              "      <td>False</td>\n",
              "      <td>3.39</td>\n",
              "      <td>Fiction,Contemporary,Literary Fiction,Adult Fi...</td>\n",
              "      <td>197 pages</td>\n",
              "      <td>Hardcover</td>\n",
              "      <td>First published March 7, 2017</td>\n",
              "      <td>12</td>\n",
              "      <td>1727</td>\n",
              "    </tr>\n",
              "    <tr>\n",
              "      <th>11</th>\n",
              "      <td>True</td>\n",
              "      <td>4.22</td>\n",
              "      <td>Fantasy,Fiction,Young Adult,Magic,Adult,Audiob...</td>\n",
              "      <td>512 pages</td>\n",
              "      <td>Hardcover</td>\n",
              "      <td>First published February 23, 2016</td>\n",
              "      <td>61</td>\n",
              "      <td>72k</td>\n",
              "    </tr>\n",
              "    <tr>\n",
              "      <th>12</th>\n",
              "      <td>False</td>\n",
              "      <td>3.82</td>\n",
              "      <td>Fiction,Thriller,Mystery,Africa,Espionage,Crim...</td>\n",
              "      <td>482 pages</td>\n",
              "      <td>Paperback</td>\n",
              "      <td>First published January 4, 2001</td>\n",
              "      <td>175</td>\n",
              "      <td>8515</td>\n",
              "    </tr>\n",
              "    <tr>\n",
              "      <th>13</th>\n",
              "      <td>False</td>\n",
              "      <td>4.02</td>\n",
              "      <td>Historical Romance,Romance,Historical,Historic...</td>\n",
              "      <td>385 pages</td>\n",
              "      <td>Mass Market Paperback</td>\n",
              "      <td>First published July 1, 1992</td>\n",
              "      <td>117</td>\n",
              "      <td>5206</td>\n",
              "    </tr>\n",
              "    <tr>\n",
              "      <th>14</th>\n",
              "      <td>False</td>\n",
              "      <td>4.07</td>\n",
              "      <td>Picture Books,Childrens,Fiction,Folklore,Nativ...</td>\n",
              "      <td>32 pages</td>\n",
              "      <td>Hardcover</td>\n",
              "      <td>First published March 1, 1984</td>\n",
              "      <td>57</td>\n",
              "      <td>91</td>\n",
              "    </tr>\n",
              "    <tr>\n",
              "      <th>15</th>\n",
              "      <td>False</td>\n",
              "      <td>3.97</td>\n",
              "      <td>Fiction,Africa,Senegal,Feminism,African Litera...</td>\n",
              "      <td>90 pages</td>\n",
              "      <td>Paperback</td>\n",
              "      <td>First published January 1, 1980</td>\n",
              "      <td>11</td>\n",
              "      <td>213</td>\n",
              "    </tr>\n",
              "    <tr>\n",
              "      <th>16</th>\n",
              "      <td>True</td>\n",
              "      <td>3.48</td>\n",
              "      <td>Feminism,Womens,Nonfiction</td>\n",
              "      <td>272 pages</td>\n",
              "      <td>Paperback</td>\n",
              "      <td>First published January 3, 2005</td>\n",
              "      <td>24</td>\n",
              "      <td>14</td>\n",
              "    </tr>\n",
              "    <tr>\n",
              "      <th>17</th>\n",
              "      <td>False</td>\n",
              "      <td>4.21</td>\n",
              "      <td>History,Nonfiction,China,War,Japan,World War I...</td>\n",
              "      <td>290 pages</td>\n",
              "      <td>Paperback</td>\n",
              "      <td>First published October 14, 1997</td>\n",
              "      <td>7</td>\n",
              "      <td>370</td>\n",
              "    </tr>\n",
              "    <tr>\n",
              "      <th>18</th>\n",
              "      <td>True</td>\n",
              "      <td>4.03</td>\n",
              "      <td>Mystery,Crime,Fiction,Mystery Thriller,Thrille...</td>\n",
              "      <td>448 pages</td>\n",
              "      <td>Paperback</td>\n",
              "      <td>First published January 1, 1990</td>\n",
              "      <td>167</td>\n",
              "      <td>469</td>\n",
              "    </tr>\n",
              "    <tr>\n",
              "      <th>19</th>\n",
              "      <td>False</td>\n",
              "      <td>3.89</td>\n",
              "      <td>Historical Fiction,Fiction,Spain,Historical,Ro...</td>\n",
              "      <td>432 pages</td>\n",
              "      <td>Hardcover</td>\n",
              "      <td>First published January 1, 2008</td>\n",
              "      <td>66</td>\n",
              "      <td>1739</td>\n",
              "    </tr>\n",
              "  </tbody>\n",
              "</table>\n",
              "</div>\n",
              "    <div class=\"colab-df-buttons\">\n",
              "\n",
              "  <div class=\"colab-df-container\">\n",
              "    <button class=\"colab-df-convert\" onclick=\"convertToInteractive('df-b23cae92-813f-489f-ac72-ed406cdb3df4')\"\n",
              "            title=\"Convert this dataframe to an interactive table.\"\n",
              "            style=\"display:none;\">\n",
              "\n",
              "  <svg xmlns=\"http://www.w3.org/2000/svg\" height=\"24px\" viewBox=\"0 -960 960 960\">\n",
              "    <path d=\"M120-120v-720h720v720H120Zm60-500h600v-160H180v160Zm220 220h160v-160H400v160Zm0 220h160v-160H400v160ZM180-400h160v-160H180v160Zm440 0h160v-160H620v160ZM180-180h160v-160H180v160Zm440 0h160v-160H620v160Z\"/>\n",
              "  </svg>\n",
              "    </button>\n",
              "\n",
              "  <style>\n",
              "    .colab-df-container {\n",
              "      display:flex;\n",
              "      gap: 12px;\n",
              "    }\n",
              "\n",
              "    .colab-df-convert {\n",
              "      background-color: #E8F0FE;\n",
              "      border: none;\n",
              "      border-radius: 50%;\n",
              "      cursor: pointer;\n",
              "      display: none;\n",
              "      fill: #1967D2;\n",
              "      height: 32px;\n",
              "      padding: 0 0 0 0;\n",
              "      width: 32px;\n",
              "    }\n",
              "\n",
              "    .colab-df-convert:hover {\n",
              "      background-color: #E2EBFA;\n",
              "      box-shadow: 0px 1px 2px rgba(60, 64, 67, 0.3), 0px 1px 3px 1px rgba(60, 64, 67, 0.15);\n",
              "      fill: #174EA6;\n",
              "    }\n",
              "\n",
              "    .colab-df-buttons div {\n",
              "      margin-bottom: 4px;\n",
              "    }\n",
              "\n",
              "    [theme=dark] .colab-df-convert {\n",
              "      background-color: #3B4455;\n",
              "      fill: #D2E3FC;\n",
              "    }\n",
              "\n",
              "    [theme=dark] .colab-df-convert:hover {\n",
              "      background-color: #434B5C;\n",
              "      box-shadow: 0px 1px 3px 1px rgba(0, 0, 0, 0.15);\n",
              "      filter: drop-shadow(0px 1px 2px rgba(0, 0, 0, 0.3));\n",
              "      fill: #FFFFFF;\n",
              "    }\n",
              "  </style>\n",
              "\n",
              "    <script>\n",
              "      const buttonEl =\n",
              "        document.querySelector('#df-b23cae92-813f-489f-ac72-ed406cdb3df4 button.colab-df-convert');\n",
              "      buttonEl.style.display =\n",
              "        google.colab.kernel.accessAllowed ? 'block' : 'none';\n",
              "\n",
              "      async function convertToInteractive(key) {\n",
              "        const element = document.querySelector('#df-b23cae92-813f-489f-ac72-ed406cdb3df4');\n",
              "        const dataTable =\n",
              "          await google.colab.kernel.invokeFunction('convertToInteractive',\n",
              "                                                    [key], {});\n",
              "        if (!dataTable) return;\n",
              "\n",
              "        const docLinkHtml = 'Like what you see? Visit the ' +\n",
              "          '<a target=\"_blank\" href=https://colab.research.google.com/notebooks/data_table.ipynb>data table notebook</a>'\n",
              "          + ' to learn more about interactive tables.';\n",
              "        element.innerHTML = '';\n",
              "        dataTable['output_type'] = 'display_data';\n",
              "        await google.colab.output.renderOutput(dataTable, element);\n",
              "        const docLink = document.createElement('div');\n",
              "        docLink.innerHTML = docLinkHtml;\n",
              "        element.appendChild(docLink);\n",
              "      }\n",
              "    </script>\n",
              "  </div>\n",
              "\n",
              "\n",
              "<div id=\"df-84d2fa54-8efa-4340-af96-d064308d1ae5\">\n",
              "  <button class=\"colab-df-quickchart\" onclick=\"quickchart('df-84d2fa54-8efa-4340-af96-d064308d1ae5')\"\n",
              "            title=\"Suggest charts\"\n",
              "            style=\"display:none;\">\n",
              "\n",
              "<svg xmlns=\"http://www.w3.org/2000/svg\" height=\"24px\"viewBox=\"0 0 24 24\"\n",
              "     width=\"24px\">\n",
              "    <g>\n",
              "        <path d=\"M19 3H5c-1.1 0-2 .9-2 2v14c0 1.1.9 2 2 2h14c1.1 0 2-.9 2-2V5c0-1.1-.9-2-2-2zM9 17H7v-7h2v7zm4 0h-2V7h2v10zm4 0h-2v-4h2v4z\"/>\n",
              "    </g>\n",
              "</svg>\n",
              "  </button>\n",
              "\n",
              "<style>\n",
              "  .colab-df-quickchart {\n",
              "      --bg-color: #E8F0FE;\n",
              "      --fill-color: #1967D2;\n",
              "      --hover-bg-color: #E2EBFA;\n",
              "      --hover-fill-color: #174EA6;\n",
              "      --disabled-fill-color: #AAA;\n",
              "      --disabled-bg-color: #DDD;\n",
              "  }\n",
              "\n",
              "  [theme=dark] .colab-df-quickchart {\n",
              "      --bg-color: #3B4455;\n",
              "      --fill-color: #D2E3FC;\n",
              "      --hover-bg-color: #434B5C;\n",
              "      --hover-fill-color: #FFFFFF;\n",
              "      --disabled-bg-color: #3B4455;\n",
              "      --disabled-fill-color: #666;\n",
              "  }\n",
              "\n",
              "  .colab-df-quickchart {\n",
              "    background-color: var(--bg-color);\n",
              "    border: none;\n",
              "    border-radius: 50%;\n",
              "    cursor: pointer;\n",
              "    display: none;\n",
              "    fill: var(--fill-color);\n",
              "    height: 32px;\n",
              "    padding: 0;\n",
              "    width: 32px;\n",
              "  }\n",
              "\n",
              "  .colab-df-quickchart:hover {\n",
              "    background-color: var(--hover-bg-color);\n",
              "    box-shadow: 0 1px 2px rgba(60, 64, 67, 0.3), 0 1px 3px 1px rgba(60, 64, 67, 0.15);\n",
              "    fill: var(--button-hover-fill-color);\n",
              "  }\n",
              "\n",
              "  .colab-df-quickchart-complete:disabled,\n",
              "  .colab-df-quickchart-complete:disabled:hover {\n",
              "    background-color: var(--disabled-bg-color);\n",
              "    fill: var(--disabled-fill-color);\n",
              "    box-shadow: none;\n",
              "  }\n",
              "\n",
              "  .colab-df-spinner {\n",
              "    border: 2px solid var(--fill-color);\n",
              "    border-color: transparent;\n",
              "    border-bottom-color: var(--fill-color);\n",
              "    animation:\n",
              "      spin 1s steps(1) infinite;\n",
              "  }\n",
              "\n",
              "  @keyframes spin {\n",
              "    0% {\n",
              "      border-color: transparent;\n",
              "      border-bottom-color: var(--fill-color);\n",
              "      border-left-color: var(--fill-color);\n",
              "    }\n",
              "    20% {\n",
              "      border-color: transparent;\n",
              "      border-left-color: var(--fill-color);\n",
              "      border-top-color: var(--fill-color);\n",
              "    }\n",
              "    30% {\n",
              "      border-color: transparent;\n",
              "      border-left-color: var(--fill-color);\n",
              "      border-top-color: var(--fill-color);\n",
              "      border-right-color: var(--fill-color);\n",
              "    }\n",
              "    40% {\n",
              "      border-color: transparent;\n",
              "      border-right-color: var(--fill-color);\n",
              "      border-top-color: var(--fill-color);\n",
              "    }\n",
              "    60% {\n",
              "      border-color: transparent;\n",
              "      border-right-color: var(--fill-color);\n",
              "    }\n",
              "    80% {\n",
              "      border-color: transparent;\n",
              "      border-right-color: var(--fill-color);\n",
              "      border-bottom-color: var(--fill-color);\n",
              "    }\n",
              "    90% {\n",
              "      border-color: transparent;\n",
              "      border-bottom-color: var(--fill-color);\n",
              "    }\n",
              "  }\n",
              "</style>\n",
              "\n",
              "  <script>\n",
              "    async function quickchart(key) {\n",
              "      const quickchartButtonEl =\n",
              "        document.querySelector('#' + key + ' button');\n",
              "      quickchartButtonEl.disabled = true;  // To prevent multiple clicks.\n",
              "      quickchartButtonEl.classList.add('colab-df-spinner');\n",
              "      try {\n",
              "        const charts = await google.colab.kernel.invokeFunction(\n",
              "            'suggestCharts', [key], {});\n",
              "      } catch (error) {\n",
              "        console.error('Error during call to suggestCharts:', error);\n",
              "      }\n",
              "      quickchartButtonEl.classList.remove('colab-df-spinner');\n",
              "      quickchartButtonEl.classList.add('colab-df-quickchart-complete');\n",
              "    }\n",
              "    (() => {\n",
              "      let quickchartButtonEl =\n",
              "        document.querySelector('#df-84d2fa54-8efa-4340-af96-d064308d1ae5 button');\n",
              "      quickchartButtonEl.style.display =\n",
              "        google.colab.kernel.accessAllowed ? 'block' : 'none';\n",
              "    })();\n",
              "  </script>\n",
              "</div>\n",
              "\n",
              "    </div>\n",
              "  </div>\n"
            ],
            "application/vnd.google.colaboratory.intrinsic+json": {
              "type": "dataframe",
              "variable_name": "train_features",
              "summary": "{\n  \"name\": \"train_features\",\n  \"rows\": 17290,\n  \"fields\": [\n    {\n      \"column\": \"series\",\n      \"properties\": {\n        \"dtype\": \"boolean\",\n        \"num_unique_values\": 2,\n        \"samples\": [\n          false,\n          true\n        ],\n        \"semantic_type\": \"\",\n        \"description\": \"\"\n      }\n    },\n    {\n      \"column\": \"rating_avg\",\n      \"properties\": {\n        \"dtype\": \"number\",\n        \"std\": 0.35345676746810994,\n        \"min\": 0.0,\n        \"max\": 5.0,\n        \"num_unique_values\": 238,\n        \"samples\": [\n          4.58,\n          4.03\n        ],\n        \"semantic_type\": \"\",\n        \"description\": \"\"\n      }\n    },\n    {\n      \"column\": \"genres\",\n      \"properties\": {\n        \"dtype\": \"string\",\n        \"num_unique_values\": 14370,\n        \"samples\": [\n          \"Mystery,Historical Fiction,Historical,Fiction,Romance,Historical Mystery,Audiobook\",\n          \"Mystery,Fiction,Crime,Thriller,Mystery Thriller,Jewish,Suspense\"\n        ],\n        \"semantic_type\": \"\",\n        \"description\": \"\"\n      }\n    },\n    {\n      \"column\": \"pages\",\n      \"properties\": {\n        \"dtype\": \"category\",\n        \"num_unique_values\": 879,\n        \"samples\": [\n          \"66 pages\",\n          \"298 pages\"\n        ],\n        \"semantic_type\": \"\",\n        \"description\": \"\"\n      }\n    },\n    {\n      \"column\": \"publication_type\",\n      \"properties\": {\n        \"dtype\": \"category\",\n        \"num_unique_values\": 123,\n        \"samples\": [\n          \" Board Book\",\n          \"108 pages\"\n        ],\n        \"semantic_type\": \"\",\n        \"description\": \"\"\n      }\n    },\n    {\n      \"column\": \"publication_info\",\n      \"properties\": {\n        \"dtype\": \"category\",\n        \"num_unique_values\": 4745,\n        \"samples\": [\n          \"First published October 9, 2006\",\n          \"First published July 19, 2015\"\n        ],\n        \"semantic_type\": \"\",\n        \"description\": \"\"\n      }\n    },\n    {\n      \"column\": \"author_books\",\n      \"properties\": {\n        \"dtype\": \"category\",\n        \"num_unique_values\": 720,\n        \"samples\": [\n          \"1122\",\n          \"470\"\n        ],\n        \"semantic_type\": \"\",\n        \"description\": \"\"\n      }\n    },\n    {\n      \"column\": \"author_followers\",\n      \"properties\": {\n        \"dtype\": \"category\",\n        \"num_unique_values\": 3888,\n        \"samples\": [\n          \"1431\",\n          \"577\"\n        ],\n        \"semantic_type\": \"\",\n        \"description\": \"\"\n      }\n    }\n  ]\n}"
            }
          },
          "metadata": {},
          "execution_count": 7
        }
      ],
      "source": [
        "#membaca data\n",
        "train_features = pd.read_csv('train_features.csv')\n",
        "test_features = pd.read_csv('test_features.csv')\n",
        "train_labels = pd.read_csv('train_labels.csv')\n",
        "train_features.head(20)\n"
      ]
    },
    {
      "cell_type": "code",
      "execution_count": null,
      "metadata": {
        "id": "adlQsvSBoDCZ"
      },
      "outputs": [],
      "source": [
        "# Menggabungkan data fitur dan label pada data training\n",
        "train_data = pd.concat([train_features, train_labels], axis=1)\n"
      ]
    },
    {
      "cell_type": "code",
      "execution_count": null,
      "metadata": {
        "colab": {
          "base_uri": "https://localhost:8080/"
        },
        "id": "g8jzSovKoDCZ",
        "outputId": "0c519a50-f11e-4dfb-d255-c071e6eeda17"
      },
      "outputs": [
        {
          "output_type": "stream",
          "name": "stdout",
          "text": [
            "<class 'pandas.core.frame.DataFrame'>\n",
            "RangeIndex: 17290 entries, 0 to 17289\n",
            "Data columns (total 9 columns):\n",
            " #   Column            Non-Null Count  Dtype  \n",
            "---  ------            --------------  -----  \n",
            " 0   series            17290 non-null  bool   \n",
            " 1   rating_avg        17290 non-null  float64\n",
            " 2   genres            16650 non-null  object \n",
            " 3   pages             17244 non-null  object \n",
            " 4   publication_type  17244 non-null  object \n",
            " 5   publication_info  17285 non-null  object \n",
            " 6   author_books      17290 non-null  object \n",
            " 7   author_followers  17290 non-null  object \n",
            " 8   votes             17290 non-null  int64  \n",
            "dtypes: bool(1), float64(1), int64(1), object(6)\n",
            "memory usage: 1.1+ MB\n"
          ]
        }
      ],
      "source": [
        "train_data.info()"
      ]
    },
    {
      "cell_type": "code",
      "execution_count": null,
      "metadata": {
        "colab": {
          "base_uri": "https://localhost:8080/"
        },
        "id": "T5fq0IlqoDCa",
        "outputId": "da7cdc15-4d86-440b-bc38-9d7ffc627cce"
      },
      "outputs": [
        {
          "output_type": "stream",
          "name": "stdout",
          "text": [
            "['356 pages' '480 pages' '224 pages' '300 pages' '287 pages' '238 pages'\n",
            " '336 pages' '180 pages' '324 pages' '423 pages' '197 pages' '512 pages'\n",
            " '482 pages' '385 pages' '32 pages' '90 pages' '272 pages' '290 pages'\n",
            " '448 pages' '432 pages' '192 pages' '240 pages' '384 pages' '256 pages'\n",
            " '322 pages' '359 pages' '254 pages' '294 pages' '337 pages' '250 pages'\n",
            " '318 pages' '389 pages' '576 pages' '304 pages' '145 pages' '352 pages'\n",
            " '1028 pages' '311 pages' '326 pages' '248 pages' '406 pages' 'ebook'\n",
            " '306 pages' '323 pages' '262 pages' '368 pages' '339 pages' '413 pages'\n",
            " '302 pages' '128 pages' 'Paperback' '528 pages' '314 pages' '462 pages'\n",
            " '387 pages' '316 pages' '244 pages' '243 pages' '72 pages' '736 pages'\n",
            " '410 pages' '194 pages' '425 pages' '357 pages' '756 pages' '42 pages'\n",
            " '288 pages' '186 pages' '394 pages' '436 pages' '416 pages' '144 pages'\n",
            " '400 pages' '213 pages' '569 pages' '1407 pages' '263 pages' '517 pages'\n",
            " '303 pages' '307 pages' '408 pages' '278 pages' '40 pages' '258 pages'\n",
            " '289 pages' '354 pages' '320 pages' '886 pages' '149 pages' '274 pages'\n",
            " '496 pages' '245 pages' '204 pages' '363 pages' '120 pages' '160 pages'\n",
            " '330 pages' '251 pages' '624 pages' '198 pages' '361 pages' '351 pages'\n",
            " '355 pages' '563 pages' '360 pages' '188 pages' '261 pages' '343 pages'\n",
            " '310 pages' '143 pages' '260 pages' '473 pages' '264 pages' '48 pages'\n",
            " '369 pages' 'Kindle Edition' '393 pages' '193 pages' '378 pages'\n",
            " '176 pages' '279 pages' '383 pages' '291 pages' '136 pages' '174 pages'\n",
            " '158 pages' '376 pages' '167 pages' '784 pages' '353 pages' '282 pages'\n",
            " '402 pages' '200 pages' '154 pages' '795 pages' '177 pages' '344 pages'\n",
            " '657 pages' '556 pages' '442 pages' '217 pages' '422 pages' '209 pages'\n",
            " '464 pages' '374 pages' '271 pages' '277 pages' '178 pages' '265 pages'\n",
            " '544 pages' '365 pages' '680 pages' '319 pages' '553 pages'\n",
            " 'Audio Cassette' '228 pages' '292 pages' '420 pages'\n",
            " 'Mass Market Paperback' '340 pages' '392 pages' '594 pages' '426 pages'\n",
            " '358 pages' 'Hardcover' '229 pages' '297 pages' '295 pages' '637 pages'\n",
            " '232 pages' '502 pages' '341 pages' '586 pages' '113 pages' '390 pages'\n",
            " '329 pages' '373 pages' '704 pages' '205 pages' '203 pages' '371 pages'\n",
            " '189 pages' '207 pages' '606 pages' '69 pages' '532 pages' '348 pages'\n",
            " '455 pages' '672 pages' '230 pages' '350 pages' '73 pages' '391 pages'\n",
            " '570 pages' '933 pages' '346 pages' '285 pages' '428 pages' '1514 pages'\n",
            " '199 pages' '605 pages' '386 pages' '208 pages' '397 pages' '515 pages'\n",
            " '88 pages' '560 pages' '64 pages' '31 pages' '221 pages' '335 pages'\n",
            " '338 pages' '255 pages' '633 pages' '328 pages' '22 pages' '159 pages'\n",
            " '216 pages' '96 pages' '372 pages' '364 pages' '239 pages' '399 pages'\n",
            " '377 pages' '652 pages' '470 pages' '396 pages' '296 pages' '148 pages'\n",
            " '558 pages' '10 pages' '183 pages' '20 pages' '182 pages' '516 pages'\n",
            " '125 pages' '231 pages' '281 pages' '472 pages' '342 pages' '317 pages'\n",
            " '381 pages' '709 pages' '375 pages' '331 pages' '478 pages' '117 pages'\n",
            " '298 pages' '175 pages' '411 pages' '268 pages' '424 pages' '133 pages'\n",
            " '293 pages' '201 pages' '211 pages' '151 pages' '485 pages' '181 pages'\n",
            " '572 pages' '225 pages' '152 pages' '137 pages' '506 pages' '438 pages'\n",
            " '325 pages' '80 pages' '405 pages' '487 pages' '656 pages' '380 pages'\n",
            " '439 pages' '404 pages' '275 pages' '196 pages' '460 pages' '461 pages'\n",
            " '333 pages' '441 pages' '168 pages' '362 pages' '492 pages' '1007 pages'\n",
            " '187 pages' '305 pages' '775 pages' '435 pages' '210 pages' '315 pages'\n",
            " '725 pages' '403 pages' '661 pages' '116 pages' '388 pages' '475 pages'\n",
            " '299 pages' '321 pages' '430 pages' '105 pages' '77 pages' '508 pages'\n",
            " '429 pages' '535 pages' '249 pages' '347 pages' '730 pages' '550 pages'\n",
            " '312 pages' '236 pages' '454 pages' '308 pages' '214 pages' '675 pages'\n",
            " '131 pages' '547 pages' '85 pages' '414 pages' '450 pages' '67 pages'\n",
            " '526 pages' '126 pages' '398 pages' '483 pages' '257 pages' '493 pages'\n",
            " '948 pages' '608 pages' '540 pages' '367 pages' '419 pages' '108 pages'\n",
            " '66 pages' '283 pages' '332 pages' '418 pages' '234 pages' '220 pages'\n",
            " '738 pages' '565 pages' '499 pages' '241 pages' '484 pages' '538 pages'\n",
            " '134 pages' '11 pages' '309 pages' '477 pages' '327 pages' '185 pages'\n",
            " '456 pages' '803 pages' '233 pages' nan '696 pages' '382 pages'\n",
            " '41 pages' '270 pages' '165 pages' '643 pages' '100 pages' '449 pages'\n",
            " '16 pages' '8 pages' '653 pages' '366 pages' '688 pages' '349 pages'\n",
            " '370 pages' '218 pages' '237 pages' '412 pages' '932 pages' '184 pages'\n",
            " '345 pages' '796 pages' '479 pages' '9 pages' '640 pages' '81 pages'\n",
            " '536 pages' '179 pages' '534 pages' '555 pages' '409 pages' '518 pages'\n",
            " '504 pages' '466 pages' '500 pages' '104 pages' '767 pages' '202 pages'\n",
            " '578 pages' '593 pages' '941 pages' '443 pages' '334 pages' '135 pages'\n",
            " '166 pages' 'Audio Play' '440 pages' '247 pages' '215 pages' '401 pages'\n",
            " '273 pages' '437 pages' '453 pages' '223 pages' '259 pages' '301 pages'\n",
            " '84 pages' '252 pages' '600 pages' '52 pages' '29 pages' '469 pages'\n",
            " '162 pages' '463 pages' '494 pages' '648 pages' '1085 pages' '115 pages'\n",
            " '98 pages' '253 pages' '407 pages' 'Audio' '26 pages' '551 pages'\n",
            " '83 pages' '212 pages' '226 pages' '191 pages' '190 pages' '896 pages'\n",
            " '107 pages' '284 pages' '623 pages' '486 pages' '509 pages' '622 pages'\n",
            " '119 pages' '153 pages' '60 pages' '433 pages' '74 pages' '222 pages'\n",
            " '465 pages' '276 pages' '111 pages' '219 pages' '434 pages' '112 pages'\n",
            " '668 pages' '34 pages' '592 pages' '427 pages' '235 pages' '173 pages'\n",
            " '395 pages' '955 pages' '431 pages' '242 pages' '163 pages' '417 pages'\n",
            " '984 pages' '505 pages' '87 pages' '82 pages' '627 pages' '169 pages'\n",
            " '379 pages' '458 pages' '286 pages' '195 pages' '280 pages' '574 pages'\n",
            " '1064 pages' '584 pages' '269 pages' '498 pages' '587 pages' '246 pages'\n",
            " '1015 pages' '24 pages' '488 pages' '468 pages' '415 pages' '227 pages'\n",
            " '2 pages' '529 pages' '46 pages' '1050 pages' '75 pages' '740 pages'\n",
            " '76 pages' '864 pages' '893 pages' '577 pages' '816 pages' '527 pages'\n",
            " '452 pages' '266 pages' '142 pages' '791 pages' '313 pages' '520 pages'\n",
            " '123 pages' '62 pages' '571 pages' '573 pages' '59 pages' '79 pages'\n",
            " '161 pages' '552 pages' '548 pages' '626 pages' '530 pages' '4100 pages'\n",
            " '70 pages' 'Audio CD' '146 pages' '514 pages' '828 pages' '575 pages'\n",
            " '114 pages' '511 pages' '639 pages' '30 pages' '613 pages' '132 pages'\n",
            " '582 pages' '562 pages' '947 pages' '97 pages' '36 pages' '1177 pages'\n",
            " '549 pages' '451 pages' '838 pages' '138 pages' '944 pages' '140 pages'\n",
            " '164 pages' '12 pages' '481 pages' '561 pages' '721 pages' '490 pages'\n",
            " '1280 pages' 'Nook' '611 pages' '489 pages' '638 pages' '654 pages'\n",
            " '718 pages' '519 pages' '446 pages' '467 pages' '267 pages' '139 pages'\n",
            " '960 pages' '880 pages' '38 pages' '421 pages' '110 pages' '539 pages'\n",
            " '170 pages' '629 pages' '37 pages' '1110 pages' '567 pages' '118 pages'\n",
            " '503 pages' '507 pages' '65 pages' '447 pages' '109 pages' '922 pages'\n",
            " '14 pages' '908 pages' '703 pages' '28 pages' '4 pages' '647 pages'\n",
            " '644 pages' '106 pages' '859 pages' '19 pages' '820 pages' '510 pages'\n",
            " '156 pages' '130 pages' '53 pages' '821 pages' '766 pages' 'Audiobook'\n",
            " '206 pages' '522 pages' '581 pages' '583 pages' '150 pages' '568 pages'\n",
            " '734 pages' '491 pages' '620 pages' '1 pages' '912 pages' '671 pages'\n",
            " '694 pages' '445 pages' '992 pages' '51 pages' '646 pages' '495 pages'\n",
            " '1008 pages' '692 pages' '501 pages' '632 pages' '91 pages' '537 pages'\n",
            " '546 pages' '172 pages' '848 pages' '635 pages' '127 pages' '147 pages'\n",
            " '666 pages' '497 pages' '664 pages' '39 pages' '122 pages' '94 pages'\n",
            " '6 pages' '56 pages' '68 pages' '564 pages' '103 pages' '541 pages'\n",
            " '47 pages' '778 pages' '171 pages' '444 pages' '751 pages' '1376 pages'\n",
            " '457 pages' '1088 pages' '1009 pages' '708 pages' '602 pages' '768 pages'\n",
            " '988 pages' '754 pages' '155 pages' '604 pages' '642 pages' '946 pages'\n",
            " '716 pages' '983 pages' '849 pages' '542 pages' '141 pages' '1074 pages'\n",
            " '649 pages' '129 pages' 'MP3 CD' '1125 pages' '3 pages' '23 pages'\n",
            " '580 pages' '678 pages' '662 pages' '525 pages' '636 pages' '773 pages'\n",
            " '857 pages' '787 pages' '533 pages' '1328 pages' '58 pages' '603 pages'\n",
            " '832 pages' '1012 pages' '710 pages' '523 pages' '474 pages' '545 pages'\n",
            " '554 pages' '1107 pages' '921 pages' '54 pages' '471 pages' '559 pages'\n",
            " '579 pages' '800 pages' '590 pages' '616 pages' '659 pages' '674 pages'\n",
            " '1207 pages' '1173 pages' '589 pages' '531 pages' '956 pages' '598 pages'\n",
            " '7 pages' '658 pages' '476 pages' '1456 pages' '45 pages' '685 pages'\n",
            " '33 pages' '5 pages' '634 pages' '86 pages' '720 pages' '812 pages'\n",
            " '4448 pages' '596 pages' '102 pages' '660 pages' '13 pages' '897 pages'\n",
            " '1052 pages' '631 pages' '89 pages' '904 pages' '124 pages' '599 pages'\n",
            " '809 pages' '1076 pages' 'Audible Audio' '557 pages' '1056 pages'\n",
            " '673 pages' '994 pages' '677 pages' '798 pages' '157 pages' '759 pages'\n",
            " '101 pages' '867 pages' '808 pages' '850 pages' '1237 pages' '610 pages'\n",
            " '459 pages' '705 pages' '612 pages' '609 pages' '543 pages' '1126 pages'\n",
            " '702 pages' '1408 pages' '585 pages' '27 pages' '1023 pages' '566 pages'\n",
            " '63 pages' '607 pages' '513 pages' '655 pages' '18 pages' '862 pages'\n",
            " '722 pages' '99 pages' '706 pages' '1200 pages' '1079 pages' '21 pages'\n",
            " '752 pages' '684 pages' '524 pages' '121 pages' '44 pages' '770 pages'\n",
            " '650 pages' '1168 pages' '781 pages' '868 pages' '645 pages' '1000 pages'\n",
            " '641 pages' '92 pages' '744 pages' '869 pages' '1139 pages' '1167 pages'\n",
            " '1431 pages' '683 pages' '1090 pages' '614 pages' '628 pages'\n",
            " 'Unknown Binding' '618 pages' '780 pages' '93 pages' '732 pages'\n",
            " '663 pages' '71 pages' 'Library Binding' '15 pages' '601 pages'\n",
            " '679 pages' '999 pages' '916 pages' '689 pages' '1093 pages' '676 pages'\n",
            " '615 pages' '769 pages' '690 pages' '1083 pages' '1248 pages' '681 pages'\n",
            " '824 pages' '1391 pages' '881 pages' '95 pages' '990 pages' '785 pages'\n",
            " '591 pages' '724 pages' '866 pages' '1556 pages' '5216 pages'\n",
            " '1098 pages' '1264 pages' '1087 pages' '1520 pages' '713 pages'\n",
            " '1044 pages' '914 pages' '723 pages' '883 pages' '17 pages' '794 pages'\n",
            " '57 pages' '698 pages' '55 pages' '726 pages' '25 pages' '741 pages'\n",
            " '1392 pages' '521 pages' '772 pages' '856 pages' '588 pages' '61 pages'\n",
            " '746 pages' '1310 pages' '670 pages' '879 pages' '913 pages' '691 pages'\n",
            " '669 pages' '1011 pages' '776 pages' '667 pages' '967 pages' '863 pages'\n",
            " '35 pages' '1060 pages' '1128 pages' '621 pages' '774 pages' '597 pages'\n",
            " '870 pages' '892 pages' '790 pages' '1952 pages' '936 pages' '1474 pages'\n",
            " '793 pages' '595 pages' '804 pages' '1120 pages' '1135 pages'\n",
            " '1171 pages' '630 pages' '789 pages' 'html']\n",
            "['109 pages' '348 pages' '352 pages' '308 pages' '362 pages' 'ebook'\n",
            " '222 pages' '400 pages' '214 pages' '256 pages' '654 pages' '208 pages'\n",
            " '780 pages' '258 pages' '478 pages' '180 pages' '451 pages' '151 pages'\n",
            " '166 pages' '784 pages' '359 pages' '452 pages' '353 pages' '339 pages'\n",
            " '336 pages' '376 pages' '270 pages' '416 pages' '439 pages' '280 pages'\n",
            " '384 pages' '314 pages' '40 pages' '247 pages' '325 pages' '816 pages'\n",
            " '350 pages' '289 pages' '248 pages' '456 pages' '368 pages' '307 pages'\n",
            " '386 pages' '323 pages' '184 pages' '320 pages' '221 pages' '107 pages'\n",
            " '383 pages' '360 pages' '554 pages' '284 pages' nan '219 pages'\n",
            " '224 pages' '418 pages' '240 pages' '255 pages' '288 pages' '298 pages'\n",
            " '252 pages' '832 pages' '496 pages' '448 pages' '415 pages' '365 pages'\n",
            " '304 pages' '216 pages' '188 pages' '372 pages' '378 pages' '283 pages'\n",
            " '613 pages' '93 pages' '310 pages' '379 pages' '391 pages' '257 pages'\n",
            " '191 pages' '148 pages' '387 pages' '160 pages' '427 pages' '111 pages'\n",
            " '92 pages' '332 pages' '186 pages' '87 pages' '608 pages' '32 pages'\n",
            " '404 pages' '244 pages' '552 pages' '181 pages' '324 pages' '848 pages'\n",
            " '335 pages' '458 pages' '381 pages' '438 pages' '268 pages' '313 pages'\n",
            " '96 pages' '617 pages' '357 pages' '272 pages' 'Paperback' '330 pages'\n",
            " '355 pages' '322 pages' '227 pages' '153 pages' '371 pages' '211 pages'\n",
            " '341 pages' '246 pages' '196 pages' '712 pages' '329 pages' '759 pages'\n",
            " '230 pages' '375 pages' '596 pages' '260 pages' '912 pages' '276 pages'\n",
            " '436 pages' '528 pages' '302 pages' '397 pages' '239 pages' '479 pages'\n",
            " '16 pages' '138 pages' '377 pages' '614 pages' '423 pages' '424 pages'\n",
            " '192 pages' '203 pages' '250 pages' '237 pages' '432 pages' '421 pages'\n",
            " '290 pages' '480 pages' '487 pages' '277 pages' '342 pages' '279 pages'\n",
            " '263 pages' '434 pages' '540 pages' '306 pages' '640 pages' '176 pages'\n",
            " '560 pages' '187 pages' '142 pages' '462 pages' '435 pages' '163 pages'\n",
            " 'Mass Market Paperback' 'Audiobook' '170 pages' '242 pages' '228 pages'\n",
            " '356 pages' '594 pages' '932 pages' '361 pages' '199 pages' '251 pages'\n",
            " '305 pages' '389 pages' '278 pages' '553 pages' '420 pages' '343 pages'\n",
            " '345 pages' '535 pages' '311 pages' '169 pages' '207 pages' '315 pages'\n",
            " '144 pages' '512 pages' '503 pages' 'Audio CD' '296 pages' '165 pages'\n",
            " '476 pages' '80 pages' '489 pages' '380 pages' 'Nook' '660 pages'\n",
            " '396 pages' '944 pages' '488 pages' '273 pages' '78 pages' '369 pages'\n",
            " '210 pages' '245 pages' '326 pages' '592 pages' '431 pages' '9 pages'\n",
            " '200 pages' '161 pages' '269 pages' '485 pages' '449 pages' '229 pages'\n",
            " '106 pages' '301 pages' '470 pages' '468 pages' '101 pages' '299 pages'\n",
            " '261 pages' '442 pages' '1040 pages' '399 pages' '346 pages' '334 pages'\n",
            " '128 pages' '205 pages' '218 pages' '413 pages' '48 pages' '2272 pages'\n",
            " '112 pages' '285 pages' '344 pages' '179 pages' '264 pages' '508 pages'\n",
            " '127 pages' '464 pages' '275 pages' '409 pages' '300 pages' '204 pages'\n",
            " '328 pages' '363 pages' '591 pages' '281 pages' '663 pages' '373 pages'\n",
            " '750 pages' '316 pages' '364 pages' '481 pages' '202 pages' '103 pages'\n",
            " '417 pages' '167 pages' '410 pages' '274 pages' '303 pages' '266 pages'\n",
            " '662 pages' '318 pages' '374 pages' '546 pages' '337 pages' '139 pages'\n",
            " '401 pages' '293 pages' '338 pages' '175 pages' '685 pages' '287 pages'\n",
            " '236 pages' '544 pages' '212 pages' '504 pages' '469 pages' '388 pages'\n",
            " '928 pages' '114 pages' '286 pages' '532 pages' '483 pages' '419 pages'\n",
            " '632 pages' '776 pages' '215 pages' '385 pages' '317 pages' '262 pages'\n",
            " '254 pages' '177 pages' '486 pages' '347 pages' '67 pages' '367 pages'\n",
            " '517 pages' '392 pages' '253 pages' '333 pages' '292 pages' '717 pages'\n",
            " '327 pages' '209 pages' '510 pages' '72 pages' '195 pages' '454 pages'\n",
            " '243 pages' '453 pages' '183 pages' '294 pages' '422 pages' '271 pages'\n",
            " '1074 pages' '1008 pages' 'Hardcover' '117 pages' '395 pages' '622 pages'\n",
            " '319 pages' '130 pages' '77 pages' '538 pages' '628 pages' '95 pages'\n",
            " '629 pages' '226 pages' '370 pages' '870 pages' '90 pages' '158 pages'\n",
            " '197 pages' '1 pages' '152 pages' '1000 pages' '282 pages' '233 pages'\n",
            " '340 pages' '530 pages' '26 pages' '382 pages' '450 pages' '408 pages'\n",
            " '189 pages' '100 pages' '122 pages' '97 pages' '732 pages' '24 pages'\n",
            " '754 pages' '704 pages' '593 pages' '115 pages' '522 pages' '518 pages'\n",
            " '354 pages' '3 pages' 'Kindle Edition' '406 pages' '576 pages'\n",
            " '672 pages' '433 pages' '259 pages' '565 pages' '444 pages' '394 pages'\n",
            " '234 pages' '475 pages' '297 pages' '213 pages' '178 pages' '140 pages'\n",
            " '443 pages' '17 pages' '460 pages' '556 pages' '630 pages' '249 pages'\n",
            " '168 pages' '194 pages' '120 pages' '720 pages' '699 pages' '123 pages'\n",
            " '312 pages' '541 pages' '65 pages' '428 pages' '402 pages' '291 pages'\n",
            " '125 pages' '50 pages' '405 pages' '238 pages' '349 pages' '446 pages'\n",
            " '529 pages' '295 pages' '136 pages' '81 pages' '57 pages' '393 pages'\n",
            " '390 pages' '10 pages' '557 pages' '2 pages' '220 pages' '655 pages'\n",
            " '507 pages' '502 pages' '492 pages' '516 pages' '86 pages' '321 pages'\n",
            " '580 pages' '235 pages' '137 pages' '880 pages' '231 pages' '132 pages'\n",
            " '800 pages' '447 pages' '960 pages' '513 pages' '564 pages' '491 pages'\n",
            " '466 pages' '583 pages' '624 pages' '539 pages' '398 pages' '637 pages'\n",
            " '509 pages' '358 pages' '201 pages' '757 pages' '523 pages' '472 pages'\n",
            " '157 pages' '104 pages' '770 pages' '536 pages' '461 pages' '548 pages'\n",
            " '441 pages' '520 pages' '736 pages' '440 pages' '411 pages' '834 pages'\n",
            " '351 pages' '511 pages' '133 pages' '223 pages' '688 pages' '164 pages'\n",
            " '609 pages' '56 pages' '366 pages' '1800 pages' '980 pages' '119 pages'\n",
            " '457 pages' '124 pages' '430 pages' '43 pages' '506 pages' '471 pages'\n",
            " '82 pages' '604 pages' '206 pages' '185 pages' '58 pages' '657 pages'\n",
            " '467 pages' '824 pages' '182 pages' '768 pages' '190 pages' '47 pages'\n",
            " '414 pages' '1152 pages' '656 pages' '44 pages' '648 pages' '46 pages'\n",
            " '126 pages' '118 pages' '267 pages' '217 pages' '159 pages' '728 pages'\n",
            " '63 pages' '763 pages' '896 pages' '28 pages' '11 pages' '658 pages'\n",
            " '7 pages' '309 pages' '42 pages' '493 pages' '331 pages' '426 pages'\n",
            " '571 pages' '113 pages' '143 pages' '4 pages' '650 pages' '484 pages'\n",
            " '695 pages' '618 pages' '429 pages' '162 pages' '828 pages' '827 pages'\n",
            " '644 pages' '664 pages' '477 pages' '531 pages' '232 pages' '527 pages'\n",
            " 'Audible Audio' '85 pages' '798 pages' '840 pages' '437 pages' '55 pages'\n",
            " '499 pages' '808 pages' '751 pages' '198 pages' '172 pages' '1207 pages'\n",
            " '578 pages' '3693 pages' '692 pages' '74 pages' '30 pages' '154 pages'\n",
            " '641 pages' '465 pages' '501 pages' '676 pages' '558 pages' '173 pages'\n",
            " '1272 pages' '584 pages' '38 pages' '193 pages' '500 pages' '265 pages'\n",
            " '796 pages' 'Library Binding' '1380 pages' '835 pages' '102 pages'\n",
            " '1264 pages' '445 pages' '64 pages' '482 pages' '545 pages' '694 pages'\n",
            " '566 pages' '1334 pages' '914 pages' '582 pages' '494 pages' '498 pages'\n",
            " '1223 pages' '559 pages' '91 pages' '12 pages' '134 pages' '1443 pages'\n",
            " '524 pages' '241 pages' '149 pages' '459 pages' '533 pages' '174 pages'\n",
            " '616 pages' '37 pages' '607 pages' '862 pages' '68 pages' '525 pages'\n",
            " '8 pages' '473 pages' '150 pages' '1240 pages' '714 pages' '171 pages'\n",
            " '1296 pages' '98 pages' '474 pages' '108 pages' '729 pages' '59 pages'\n",
            " '550 pages' '2176 pages' '519 pages' '749 pages' '155 pages' '84 pages'\n",
            " '88 pages' '752 pages' '916 pages' '36 pages' '910 pages' '645 pages'\n",
            " '574 pages' '577 pages' '581 pages' '14 pages' '147 pages' '689 pages'\n",
            " '110 pages' '860 pages' '62 pages' '772 pages' '947 pages' '6 pages'\n",
            " '135 pages' '864 pages' '463 pages' '693 pages' '116 pages' '455 pages'\n",
            " '927 pages' '69 pages' '29 pages' '407 pages' '679 pages' '725 pages'\n",
            " '740 pages' '403 pages' '805 pages' '156 pages' '412 pages' '515 pages'\n",
            " '425 pages' '1120 pages' '669 pages' '748 pages' '814 pages' '146 pages'\n",
            " '806 pages' '497 pages' '680 pages' '547 pages' '563 pages' '73 pages'\n",
            " '54 pages' '572 pages' '923 pages' '514 pages' '60 pages' '76 pages'\n",
            " '534 pages' '610 pages' '25 pages' '567 pages' '666 pages' '551 pages'\n",
            " '756 pages' '131 pages' '70 pages' '99 pages' '1885 pages' '836 pages'\n",
            " '549 pages' '15 pages' '747 pages' '225 pages' '45 pages' '588 pages'\n",
            " '495 pages' '619 pages' '777 pages' '1250 pages' '634 pages' '145 pages'\n",
            " '775 pages' '636 pages' '542 pages' '853 pages' '543 pages' '1281 pages'\n",
            " '847 pages' '602 pages' '600 pages' '742 pages' '94 pages' '884 pages'\n",
            " '586 pages' '52 pages' '585 pages' '678 pages' '83 pages' '579 pages'\n",
            " '633 pages' '722 pages' '623 pages' '75 pages' '888 pages'\n",
            " 'Audio Cassette' '19 pages' '1219 pages' '1005 pages' '1086 pages'\n",
            " '985 pages' '570 pages' '590 pages' '601 pages' '121 pages' '865 pages'\n",
            " '105 pages' '937 pages' '61 pages' '31 pages' '89 pages' '760 pages'\n",
            " '13 pages' '635 pages' '1730 pages' '852 pages' '1006 pages' '1243 pages'\n",
            " '682 pages' '702 pages' '505 pages' '79 pages' '20 pages' '765 pages'\n",
            " '49 pages' '976 pages' '35 pages' '652 pages' '948 pages' '745 pages'\n",
            " '794 pages' '940 pages' '665 pages' '626 pages' '691 pages' '891 pages'\n",
            " '643 pages' 'Preloaded Digital Audio Player' '863 pages' 'Audio Play'\n",
            " '909 pages' '1387 pages' '703 pages' '946 pages' 'paperback' '1280 pages'\n",
            " '638 pages' '620 pages' '811 pages' '595 pages' '597 pages' '568 pages'\n",
            " '66 pages' '71 pages' '589 pages' '639 pages' '575 pages' '18 pages'\n",
            " '846 pages' '53 pages' '490 pages' '709 pages' '615 pages' '819 pages'\n",
            " '33 pages' '1238 pages' '1110 pages' '1392 pages' '5 pages' '561 pages'\n",
            " '1030 pages' '555 pages' '603 pages' 'Board Book' '526 pages'\n",
            " '1859 pages' '930 pages' '838 pages' '625 pages' '598 pages' '649 pages'\n",
            " '612 pages' '902 pages' '739 pages' '677 pages' '738 pages' '867 pages'\n",
            " '933 pages' '801 pages' '710 pages' '815 pages' '734 pages' '537 pages'\n",
            " '733 pages' '631 pages' '661 pages' '842 pages' '818 pages' '668 pages'\n",
            " '681 pages' '892 pages' '858 pages']\n"
          ]
        }
      ],
      "source": [
        "# Memeriksa nilai-nilai unik dalam kolom pages\n",
        "print(train_data['pages'].unique())\n",
        "print(test_features['pages'].unique())\n"
      ]
    },
    {
      "cell_type": "code",
      "execution_count": null,
      "metadata": {
        "id": "hjFzDcCDoDCa"
      },
      "outputs": [],
      "source": [
        "# Fungsi untuk membersihkan dan mengubah kolom pages menjadi numerik\n",
        "def clean_pages(pages):\n",
        "    try:\n",
        "        return int(pages.replace(' pages', '').strip())\n",
        "    except (ValueError, AttributeError):\n",
        "        return np.nan\n",
        "\n",
        "# # Mengisi nilai NaN pada kolom pages dengan nilai median\n",
        "# train_data['pages'].fillna(train_data['pages'].median(), inplace=True)\n",
        "# test_features['pages'].fillna(test_features['pages'].median(), inplace=True)\n",
        "\n",
        "# # Mengisi missing values pada kolom genres\n",
        "# test_features['genres'] = test_features['genres'].fillna('')\n",
        "\n",
        "# # Mengubah kolom kategorikal menjadi numerik menggunakan LabelEncoder\n",
        "# label_encoder = LabelEncoder()\n",
        "# train_data['genres'] = train_data['genres'].apply(lambda x: ' '.join(sorted(x.split(','))))\n",
        "# test_features['genres'] = test_features['genres'].apply(lambda x: ' '.join(sorted(x.split(','))))\n",
        "# train_data['genres'] = label_encoder.fit_transform(train_data['genres'])\n",
        "# test_features['genres'] = label_encoder.transform(test_features['genres'])\n",
        "# train_data['publication_type'] = label_encoder.fit_transform(train_data['publication_type'])\n",
        "# test_features['publication_type'] = label_encoder.transform(test_features['publication_type'])\n",
        "# train_data['publication_info'] = label_encoder.fit_transform(train_data['publication_info'])\n",
        "# test_features['publication_info'] = label_encoder.transform(test_features['publication_info'])\n"
      ]
    },
    {
      "cell_type": "code",
      "execution_count": null,
      "metadata": {
        "id": "prxJZ0GooDCa"
      },
      "outputs": [],
      "source": [
        "# Membersihkan dan mengubah kolom pages\n",
        "train_data['pages'] = train_data['pages'].apply(clean_pages)\n",
        "test_features['pages'] = test_features['pages'].apply(clean_pages)"
      ]
    },
    {
      "cell_type": "code",
      "execution_count": null,
      "metadata": {
        "id": "3oyJTOptoDCb"
      },
      "outputs": [],
      "source": [
        "# Mengisi nilai NaN pada kolom pages dengan nilai median\n",
        "train_data['pages'].fillna(train_data['pages'].median(), inplace=True)\n",
        "test_features['pages'].fillna(test_features['pages'].median(), inplace=True)"
      ]
    },
    {
      "cell_type": "code",
      "execution_count": null,
      "metadata": {
        "id": "-RqbaSdIoDCb"
      },
      "outputs": [],
      "source": [
        "# Mengisi missing values pada kolom genres\n",
        "train_data['genres'] = train_data['genres'].fillna('')\n",
        "test_features['genres'] = test_features['genres'].fillna('')"
      ]
    },
    {
      "cell_type": "code",
      "execution_count": null,
      "metadata": {
        "id": "Ol-b7A1koDCc"
      },
      "outputs": [],
      "source": [
        "# Memastikan semua nilai di kolom genres adalah string\n",
        "train_data['genres'] = train_data['genres'].astype(str)\n",
        "test_features['genres'] = test_features['genres'].astype(str)"
      ]
    },
    {
      "cell_type": "code",
      "execution_count": null,
      "metadata": {
        "id": "VaVgw77CoDCc"
      },
      "outputs": [],
      "source": [
        "# Mengubah kolom genres menjadi string dan menggabungkan genre dalam string\n",
        "def process_genres(genres):\n",
        "    if isinstance(genres, str):\n",
        "        return ' '.join(sorted(genres.split(',')))\n",
        "    return ''"
      ]
    },
    {
      "cell_type": "code",
      "execution_count": null,
      "metadata": {
        "id": "svCrLyisoDCc"
      },
      "outputs": [],
      "source": [
        "train_data['genres'] = train_data['genres'].apply(process_genres)\n",
        "test_features['genres'] = test_features['genres'].apply(process_genres)"
      ]
    },
    {
      "cell_type": "code",
      "execution_count": null,
      "metadata": {
        "id": "0nSu0p5OoDCc"
      },
      "outputs": [],
      "source": [
        "# Memastikan semua nilai di kolom publication_type dan publication_info adalah string\n",
        "train_data['publication_type'] = train_data['publication_type'].astype(str).str.strip()\n",
        "test_features['publication_type'] = test_features['publication_type'].astype(str).str.strip()\n",
        "train_data['publication_info'] = train_data['publication_info'].astype(str).str.strip()\n",
        "test_features['publication_info'] = test_features['publication_info'].astype(str).str.strip()"
      ]
    },
    {
      "cell_type": "code",
      "execution_count": null,
      "metadata": {
        "id": "mVhRiZEUoDCc"
      },
      "outputs": [],
      "source": [
        "# Mengisi nilai NaN pada kolom kategorikal dengan string kosong\n",
        "train_data['publication_type'] = train_data['publication_type'].fillna('')\n",
        "test_features['publication_type'] = test_features['publication_type'].fillna('')\n",
        "train_data['publication_info'] = train_data['publication_info'].fillna('')\n",
        "test_features['publication_info'] = test_features['publication_info'].fillna('')\n"
      ]
    },
    {
      "cell_type": "code",
      "execution_count": null,
      "metadata": {
        "id": "jZhafaMcoDCd"
      },
      "outputs": [],
      "source": [
        "# Mengubah kolom kategorikal menjadi numerik menggunakan LabelEncoder\n",
        "label_encoder_genres = LabelEncoder()\n",
        "label_encoder_pub_type = LabelEncoder()\n",
        "label_encoder_pub_info = LabelEncoder()"
      ]
    },
    {
      "cell_type": "code",
      "execution_count": null,
      "metadata": {
        "id": "y6CWEcH0oDCd"
      },
      "outputs": [],
      "source": [
        "# Melakukan fit dan transform pada data training\n",
        "train_data['genres'] = label_encoder_genres.fit_transform(train_data['genres'])\n",
        "train_data['publication_type'] = label_encoder_pub_type.fit_transform(train_data['publication_type'])\n",
        "train_data['publication_info'] = label_encoder_pub_info.fit_transform(train_data['publication_info'])"
      ]
    },
    {
      "cell_type": "code",
      "execution_count": null,
      "metadata": {
        "id": "1Jpqhhn3oDCd"
      },
      "outputs": [],
      "source": [
        "# Memastikan nilai kosong adalah salah satu kelas yang diketahui oleh encoder\n",
        "empty_class = ''\n",
        "if empty_class not in label_encoder_genres.classes_:\n",
        "    label_encoder_genres.classes_ = np.append(label_encoder_genres.classes_, empty_class)\n",
        "if empty_class not in label_encoder_pub_type.classes_:\n",
        "    label_encoder_pub_type.classes_ = np.append(label_encoder_pub_type.classes_, empty_class)\n",
        "if empty_class not in label_encoder_pub_info.classes_:\n",
        "    label_encoder_pub_info.classes_ = np.append(label_encoder_pub_info.classes_, empty_class)"
      ]
    },
    {
      "cell_type": "code",
      "execution_count": null,
      "metadata": {
        "id": "F941rvDAoDCd"
      },
      "outputs": [],
      "source": [
        "# Memastikan tidak ada nilai yang tidak dikenal di data testing sebelum transformasi\n",
        "test_features['genres'] = test_features['genres'].apply(lambda x: x if x in label_encoder_genres.classes_ else empty_class)\n",
        "test_features['publication_type'] = test_features['publication_type'].apply(lambda x: x if x in label_encoder_pub_type.classes_ else empty_class)\n",
        "test_features['publication_info'] = test_features['publication_info'].apply(lambda x: x if x in label_encoder_pub_info.classes_ else empty_class)"
      ]
    },
    {
      "cell_type": "code",
      "execution_count": null,
      "metadata": {
        "id": "nzfd8SkNoDCd"
      },
      "outputs": [],
      "source": [
        "# Mengisi nilai NaN atau tidak dikenal dengan string kosong\n",
        "test_features['genres'] = test_features['genres'].fillna(empty_class).astype(str)\n",
        "test_features['publication_type'] = test_features['publication_type'].fillna(empty_class).astype(str)\n",
        "test_features['publication_info'] = test_features['publication_info'].fillna(empty_class).astype(str)"
      ]
    },
    {
      "cell_type": "code",
      "execution_count": null,
      "metadata": {
        "id": "iEjZqy6boDCd"
      },
      "outputs": [],
      "source": [
        "# Melakukan transform pada data testing\n",
        "test_features['genres'] = label_encoder_genres.transform(test_features['genres'])\n",
        "test_features['publication_type'] = label_encoder_pub_type.transform(test_features['publication_type'])\n",
        "test_features['publication_info'] = label_encoder_pub_info.transform(test_features['publication_info'])"
      ]
    },
    {
      "cell_type": "code",
      "execution_count": null,
      "metadata": {
        "id": "30Ih_n5YoDCd"
      },
      "outputs": [],
      "source": [
        "# Fungsi untuk menghapus 'k' dan mengonversi ke integer\n",
        "def convert_followers(thousand):\n",
        "    try:\n",
        "        if 'k' in thousand:\n",
        "            return int(float(thousand.replace('k', '')) * 1000)\n",
        "        return int(thousand)\n",
        "    except ValueError:\n",
        "        return 0  # atau nilai default lainnya"
      ]
    },
    {
      "cell_type": "code",
      "execution_count": null,
      "metadata": {
        "id": "TsYuMWSgoDCd"
      },
      "outputs": [],
      "source": [
        "train_data['author_books'] = train_data['author_books'].apply(convert_followers)\n",
        "train_data['author_followers'] = train_data['author_followers'].apply(convert_followers)"
      ]
    },
    {
      "cell_type": "code",
      "execution_count": null,
      "metadata": {
        "id": "2qv0_-MDoDCe"
      },
      "outputs": [],
      "source": [
        "# Mengubah kolom lainnya menjadi integer\n",
        "train_data['series'] = train_data['series'].astype(int)\n",
        "train_data['rating_avg'] = train_data['rating_avg'].astype(int)\n",
        "train_data['author_books'] = train_data['author_books'].astype(int)\n",
        "train_data['author_followers'] = train_data['author_followers'].astype(int)\n",
        "train_data['votes'] = train_data['votes'].astype(int)"
      ]
    },
    {
      "cell_type": "code",
      "execution_count": null,
      "metadata": {
        "id": "5ZQ8eNUQoDCe"
      },
      "outputs": [],
      "source": [
        "test_features['author_books'] = test_features['author_books'].apply(convert_followers)\n",
        "test_features['author_followers'] = test_features['author_followers'].apply(convert_followers)"
      ]
    },
    {
      "cell_type": "code",
      "execution_count": null,
      "metadata": {
        "id": "Ru4r0iFGoDCe"
      },
      "outputs": [],
      "source": [
        "test_features['series'] = test_features['series'].astype(int)\n",
        "test_features['rating_avg'] = test_features['rating_avg'].astype(int)\n",
        "test_features['author_books'] = test_features['author_books'].astype(int)\n",
        "test_features['author_followers'] = test_features['author_followers'].astype(int)"
      ]
    },
    {
      "cell_type": "code",
      "execution_count": null,
      "metadata": {
        "colab": {
          "base_uri": "https://localhost:8080/"
        },
        "id": "MtBsKalYoDCe",
        "outputId": "c44c58b1-f68e-4872-ff11-a1a1e94b1902"
      },
      "outputs": [
        {
          "output_type": "stream",
          "name": "stdout",
          "text": [
            "<class 'pandas.core.frame.DataFrame'>\n",
            "RangeIndex: 11527 entries, 0 to 11526\n",
            "Data columns (total 9 columns):\n",
            " #   Column            Non-Null Count  Dtype  \n",
            "---  ------            --------------  -----  \n",
            " 0   ID                11527 non-null  int64  \n",
            " 1   series            11527 non-null  int64  \n",
            " 2   rating_avg        11527 non-null  int64  \n",
            " 3   genres            11527 non-null  int64  \n",
            " 4   pages             11527 non-null  float64\n",
            " 5   publication_type  11527 non-null  int64  \n",
            " 6   publication_info  11527 non-null  int64  \n",
            " 7   author_books      11527 non-null  int64  \n",
            " 8   author_followers  11527 non-null  int64  \n",
            "dtypes: float64(1), int64(8)\n",
            "memory usage: 810.6 KB\n"
          ]
        }
      ],
      "source": [
        "test_features.info()"
      ]
    },
    {
      "cell_type": "code",
      "execution_count": null,
      "metadata": {
        "id": "CjF3PgjVoDCe"
      },
      "outputs": [],
      "source": [
        "# Mengisi nilai NaN atau tidak dikenal dengan string kosong\n",
        "test_features['genres'] = test_features['genres'].fillna('').astype(str)\n",
        "test_features['publication_type'] = test_features['publication_type'].fillna('').astype(str)\n",
        "test_features['publication_info'] = test_features['publication_info'].fillna('').astype(str)"
      ]
    },
    {
      "cell_type": "code",
      "execution_count": null,
      "metadata": {
        "colab": {
          "base_uri": "https://localhost:8080/"
        },
        "id": "FTGoLo2PoDCe",
        "outputId": "ad94c498-533c-4cdb-cde5-87c24d533a80"
      },
      "outputs": [
        {
          "output_type": "stream",
          "name": "stdout",
          "text": [
            "<class 'pandas.core.frame.DataFrame'>\n",
            "RangeIndex: 11527 entries, 0 to 11526\n",
            "Data columns (total 9 columns):\n",
            " #   Column            Non-Null Count  Dtype  \n",
            "---  ------            --------------  -----  \n",
            " 0   ID                11527 non-null  int64  \n",
            " 1   series            11527 non-null  int64  \n",
            " 2   rating_avg        11527 non-null  int64  \n",
            " 3   genres            11527 non-null  object \n",
            " 4   pages             11527 non-null  float64\n",
            " 5   publication_type  11527 non-null  object \n",
            " 6   publication_info  11527 non-null  object \n",
            " 7   author_books      11527 non-null  int64  \n",
            " 8   author_followers  11527 non-null  int64  \n",
            "dtypes: float64(1), int64(5), object(3)\n",
            "memory usage: 810.6+ KB\n"
          ]
        }
      ],
      "source": [
        "test_features.info()"
      ]
    },
    {
      "cell_type": "code",
      "execution_count": null,
      "metadata": {
        "id": "G1xcUYzMoDCe"
      },
      "outputs": [],
      "source": [
        "X = train_data.drop(['votes'], axis=1)\n",
        "y = train_data['votes']"
      ]
    },
    {
      "cell_type": "code",
      "execution_count": null,
      "metadata": {
        "id": "FXWIZYS9oDCe"
      },
      "outputs": [],
      "source": [
        "X_train, X_val, y_train, y_val = train_test_split(X, y, test_size=0.2, random_state=42)\n"
      ]
    },
    {
      "cell_type": "code",
      "execution_count": null,
      "metadata": {
        "colab": {
          "base_uri": "https://localhost:8080/",
          "height": 74
        },
        "id": "_FQYUhmSoDCe",
        "outputId": "548a31fd-c599-4802-dbef-92ba0f2d6f2f"
      },
      "outputs": [
        {
          "output_type": "execute_result",
          "data": {
            "text/plain": [
              "LinearRegression()"
            ],
            "text/html": [
              "<style>#sk-container-id-1 {color: black;background-color: white;}#sk-container-id-1 pre{padding: 0;}#sk-container-id-1 div.sk-toggleable {background-color: white;}#sk-container-id-1 label.sk-toggleable__label {cursor: pointer;display: block;width: 100%;margin-bottom: 0;padding: 0.3em;box-sizing: border-box;text-align: center;}#sk-container-id-1 label.sk-toggleable__label-arrow:before {content: \"▸\";float: left;margin-right: 0.25em;color: #696969;}#sk-container-id-1 label.sk-toggleable__label-arrow:hover:before {color: black;}#sk-container-id-1 div.sk-estimator:hover label.sk-toggleable__label-arrow:before {color: black;}#sk-container-id-1 div.sk-toggleable__content {max-height: 0;max-width: 0;overflow: hidden;text-align: left;background-color: #f0f8ff;}#sk-container-id-1 div.sk-toggleable__content pre {margin: 0.2em;color: black;border-radius: 0.25em;background-color: #f0f8ff;}#sk-container-id-1 input.sk-toggleable__control:checked~div.sk-toggleable__content {max-height: 200px;max-width: 100%;overflow: auto;}#sk-container-id-1 input.sk-toggleable__control:checked~label.sk-toggleable__label-arrow:before {content: \"▾\";}#sk-container-id-1 div.sk-estimator input.sk-toggleable__control:checked~label.sk-toggleable__label {background-color: #d4ebff;}#sk-container-id-1 div.sk-label input.sk-toggleable__control:checked~label.sk-toggleable__label {background-color: #d4ebff;}#sk-container-id-1 input.sk-hidden--visually {border: 0;clip: rect(1px 1px 1px 1px);clip: rect(1px, 1px, 1px, 1px);height: 1px;margin: -1px;overflow: hidden;padding: 0;position: absolute;width: 1px;}#sk-container-id-1 div.sk-estimator {font-family: monospace;background-color: #f0f8ff;border: 1px dotted black;border-radius: 0.25em;box-sizing: border-box;margin-bottom: 0.5em;}#sk-container-id-1 div.sk-estimator:hover {background-color: #d4ebff;}#sk-container-id-1 div.sk-parallel-item::after {content: \"\";width: 100%;border-bottom: 1px solid gray;flex-grow: 1;}#sk-container-id-1 div.sk-label:hover label.sk-toggleable__label {background-color: #d4ebff;}#sk-container-id-1 div.sk-serial::before {content: \"\";position: absolute;border-left: 1px solid gray;box-sizing: border-box;top: 0;bottom: 0;left: 50%;z-index: 0;}#sk-container-id-1 div.sk-serial {display: flex;flex-direction: column;align-items: center;background-color: white;padding-right: 0.2em;padding-left: 0.2em;position: relative;}#sk-container-id-1 div.sk-item {position: relative;z-index: 1;}#sk-container-id-1 div.sk-parallel {display: flex;align-items: stretch;justify-content: center;background-color: white;position: relative;}#sk-container-id-1 div.sk-item::before, #sk-container-id-1 div.sk-parallel-item::before {content: \"\";position: absolute;border-left: 1px solid gray;box-sizing: border-box;top: 0;bottom: 0;left: 50%;z-index: -1;}#sk-container-id-1 div.sk-parallel-item {display: flex;flex-direction: column;z-index: 1;position: relative;background-color: white;}#sk-container-id-1 div.sk-parallel-item:first-child::after {align-self: flex-end;width: 50%;}#sk-container-id-1 div.sk-parallel-item:last-child::after {align-self: flex-start;width: 50%;}#sk-container-id-1 div.sk-parallel-item:only-child::after {width: 0;}#sk-container-id-1 div.sk-dashed-wrapped {border: 1px dashed gray;margin: 0 0.4em 0.5em 0.4em;box-sizing: border-box;padding-bottom: 0.4em;background-color: white;}#sk-container-id-1 div.sk-label label {font-family: monospace;font-weight: bold;display: inline-block;line-height: 1.2em;}#sk-container-id-1 div.sk-label-container {text-align: center;}#sk-container-id-1 div.sk-container {/* jupyter's `normalize.less` sets `[hidden] { display: none; }` but bootstrap.min.css set `[hidden] { display: none !important; }` so we also need the `!important` here to be able to override the default hidden behavior on the sphinx rendered scikit-learn.org. See: https://github.com/scikit-learn/scikit-learn/issues/21755 */display: inline-block !important;position: relative;}#sk-container-id-1 div.sk-text-repr-fallback {display: none;}</style><div id=\"sk-container-id-1\" class=\"sk-top-container\"><div class=\"sk-text-repr-fallback\"><pre>LinearRegression()</pre><b>In a Jupyter environment, please rerun this cell to show the HTML representation or trust the notebook. <br />On GitHub, the HTML representation is unable to render, please try loading this page with nbviewer.org.</b></div><div class=\"sk-container\" hidden><div class=\"sk-item\"><div class=\"sk-estimator sk-toggleable\"><input class=\"sk-toggleable__control sk-hidden--visually\" id=\"sk-estimator-id-1\" type=\"checkbox\" checked><label for=\"sk-estimator-id-1\" class=\"sk-toggleable__label sk-toggleable__label-arrow\">LinearRegression</label><div class=\"sk-toggleable__content\"><pre>LinearRegression()</pre></div></div></div></div></div>"
            ]
          },
          "metadata": {},
          "execution_count": 36
        }
      ],
      "source": [
        "model = LinearRegression()\n",
        "model.fit(X_train, y_train)\n"
      ]
    },
    {
      "cell_type": "code",
      "execution_count": null,
      "metadata": {
        "colab": {
          "base_uri": "https://localhost:8080/"
        },
        "id": "xP0RHeIloDCf",
        "outputId": "6a87a6b6-db81-4a8d-a24c-4ed14b9931fa"
      },
      "outputs": [
        {
          "output_type": "stream",
          "name": "stdout",
          "text": [
            "Mean Squared Error: 42650781.84636471\n"
          ]
        }
      ],
      "source": [
        "y_pred = model.predict(X_val)\n",
        "mse = mean_squared_error(y_val, y_pred)\n",
        "print(f'Mean Squared Error: {mse}')\n"
      ]
    },
    {
      "cell_type": "code",
      "execution_count": null,
      "metadata": {
        "id": "FXzr-9iioDCf"
      },
      "outputs": [],
      "source": [
        "X_test = test_features.drop(['ID'], axis=1)\n",
        "predictions = model.predict(X_test)\n"
      ]
    },
    {
      "cell_type": "code",
      "execution_count": null,
      "metadata": {
        "id": "Nit9b-r0oDCf"
      },
      "outputs": [],
      "source": [
        "test_features['votes'] = predictions\n",
        "test_features[['ID', 'votes']].to_csv('predictions.csv', index=False)"
      ]
    },
    {
      "cell_type": "code",
      "execution_count": null,
      "metadata": {
        "colab": {
          "base_uri": "https://localhost:8080/",
          "height": 1000
        },
        "id": "p459z8SdoDCf",
        "outputId": "21d77e9d-fa68-4958-9e3c-f22411bbaad8"
      },
      "outputs": [
        {
          "output_type": "display_data",
          "data": {
            "text/plain": [
              "<Figure size 1000x600 with 1 Axes>"
            ],
            "image/png": "[encoded data removed]"
          },
          "metadata": {}
        },
        {
          "output_type": "display_data",
          "data": {
            "text/plain": [
              "<Figure size 1000x600 with 1 Axes>"
            ],
            "image/png": "[encoded data removed]"
          },
          "metadata": {}
        },
        {
          "output_type": "display_data",
          "data": {
            "text/plain": [
              "<Figure size 1000x600 with 1 Axes>"
            ],
            "image/png": "[encoded data removed]"
          },
          "metadata": {}
        }
      ],
      "source": [
        "# Mean Squared Error\n",
        "plt.figure(figsize=(10, 6))\n",
        "plt.title(\"Mean Squared Error\")\n",
        "plt.bar(['MSE'], [mse])\n",
        "plt.show()\n",
        "\n",
        "# Distribusi Error\n",
        "errors = y_val - y_pred\n",
        "plt.figure(figsize=(10, 6))\n",
        "sns.histplot(errors, kde=True)\n",
        "plt.title(\"Distribution of Errors\")\n",
        "plt.xlabel(\"Error\")\n",
        "plt.ylabel(\"Frequency\")\n",
        "plt.show()\n",
        "\n",
        "# Prediksi vs Nilai Aktual\n",
        "plt.figure(figsize=(10, 6))\n",
        "plt.scatter(y_val, y_pred, alpha=0.5)\n",
        "plt.plot([y_val.min(), y_val.max()], [y_val.min(), y_val.max()], 'k--', lw=2)\n",
        "plt.xlabel(\"Actual Votes\")\n",
        "plt.ylabel(\"Predicted Votes\")\n",
        "plt.title(\"Predicted vs Actual Votes\")\n",
        "plt.show()\n"
      ]
    },
    {
      "cell_type": "code",
      "execution_count": null,
      "metadata": {
        "colab": {
          "base_uri": "https://localhost:8080/"
        },
        "id": "GthOX10MoDCf",
        "outputId": "d4bca77d-c91b-4b40-80dd-13c33b3379a1"
      },
      "outputs": [
        {
          "output_type": "stream",
          "name": "stdout",
          "text": [
            "          ID        votes\n",
            "0       9868   802.996939\n",
            "1      12913  1992.682720\n",
            "2      25616  2652.649008\n",
            "3      11623   850.228360\n",
            "4      25214  2459.163474\n",
            "...      ...          ...\n",
            "11522  19280  1255.245099\n",
            "11523  18184  2505.015653\n",
            "11524  14766  1297.064199\n",
            "11525  17585   998.891344\n",
            "11526  19418  1539.402481\n",
            "\n",
            "[11527 rows x 2 columns]\n"
          ]
        }
      ],
      "source": [
        "df = pd.read_csv('/content/predictions.csv')\n",
        "print(df)"
      ]
    }
  ],
  "metadata": {
    "colab": {
      "provenance": [],
      "include_colab_link": true
    },
    "kernelspec": {
      "display_name": "Python 3",
      "language": "python",
      "name": "python3"
    },
    "language_info": {
      "codemirror_mode": {
        "name": "ipython",
        "version": 3
      },
      "file_extension": ".py",
      "mimetype": "text/x-python",
      "name": "python",
      "nbconvert_exporter": "python",
      "pygments_lexer": "ipython3",
      "version": "3.12.3"
    }
  },
  "nbformat": 4,
  "nbformat_minor": 0
}